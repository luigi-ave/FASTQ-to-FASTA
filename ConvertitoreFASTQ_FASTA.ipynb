{
 "cells": [
  {
   "cell_type": "markdown",
   "metadata": {},
   "source": [
    "# Convertitore da FASTQ a FASTA\n",
    "**Avenoso Luigi 844787**"
   ]
  },
  {
   "cell_type": "markdown",
   "metadata": {},
   "source": [
    "##### Testo esercizio\n",
    "Si richiede di scrivere un convertitore da FASTQ a FASTA che prenda in input un file di reads in formato FASTQ e produca in formato FASTA i soli reads che hanno le seguenti caratteristiche: (1) non sono più corti di una soglia L1 e non sono più lunghi di una soglia L2, (2) la qualità minima delle basi supera una soglia Q1, (3) contengono una sottoregione con qualità minima Q2 (maggiore di Q1) che è lunga almeno P% della lunghezza del read.\n",
    "Viene richiesto l'uso di Biopython per leggere i reads dal file FASTQ in input e per stampare (in standard output o su file) i reads in formato FASTA.\n",
    "L1, L2 (> L1), Q1, Q2 (> Q1) e P devono essere parametri in input.\n",
    "Per ognuno dei reads in output, l'header FASTA deve contenere le seguenti informazioni: (1) identificatore, (2) lunghezza, (3) qualità minima delle basi, (4) start ed end della sottoregione con qualità minima Q2, (5) qualità media della sottoregione con qualità minima Q2\n",
    "Il convertitore può essere prodotto sia come script che come Jupyter Notebook, deve essere adeguatamente commentato e deve essere caricato in un repository GitHub di cui va consegnato il link"
   ]
  },
  {
   "cell_type": "code",
   "execution_count": 1,
   "metadata": {},
   "outputs": [],
   "source": [
    "# Richiede Biopython\n",
    "# !conda install -y -c conda-forge biopython"
   ]
  },
  {
   "cell_type": "code",
   "execution_count": 2,
   "metadata": {},
   "outputs": [],
   "source": [
    "from Bio import SeqIO\n",
    "from Bio.SeqRecord import SeqRecord\n",
    "from numpy import mean"
   ]
  },
  {
   "cell_type": "markdown",
   "metadata": {},
   "source": [
    "_get_subinterval(quality_string, q2)_\n",
    "- Ritorna la posizione di inizio e fine della sottoregione\n",
    "\n",
    "_fake_interval(list_pos)_\n",
    "- Ritorna True se è presente il fake interval, False altrimenti\n",
    "\n",
    "**Nota:** il fake interval è [1,1] e significa che tutti i valori in `bool_subquality` sono uguali a `False` (cioé nella stringa qualità tutti i valori sono al di sotto della soglia minima richiesta)"
   ]
  },
  {
   "cell_type": "code",
   "execution_count": 3,
   "metadata": {},
   "outputs": [],
   "source": [
    "def get_subinterval(quality_string, q2):\n",
    "    bool_subquality = [qlt >= q2 for qlt in quality_string]\n",
    "    \n",
    "    start_list = []\n",
    "    for i in range(len(bool_subquality))[1:]:\n",
    "        if bool_subquality[i] == True and bool_subquality[i-1] == False:\n",
    "            start_list.append(i)\n",
    "        \n",
    "    if bool_subquality[0] == True:\n",
    "        start_list[:0] = [0]\n",
    "        \n",
    "    start_list[:0] = [1]\n",
    "    \n",
    "    end_list = []\n",
    "    for j in range(len(bool_subquality))[:-1]:\n",
    "        if bool_subquality[j] == True and bool_subquality[j+1] == False:\n",
    "            end_list.append(j)\n",
    "        \n",
    "    if bool_subquality[-1] == True:\n",
    "        end_list[len(bool_subquality):] = [len(bool_subquality)-1]\n",
    "        \n",
    "    end_list[:0] = [0]\n",
    "    \n",
    "    interval_lengths = [end_list[i] - start_list[i] + 1 for i in range(len(start_list))]\n",
    "    \n",
    "    index = interval_lengths.index(max(interval_lengths))\n",
    "    interval_start = start_list[index]\n",
    "    interval_end = end_list[index]\n",
    "    \n",
    "    return [interval_start, interval_end+1]\n",
    "\n",
    "\n",
    "def fake_interval(list_pos):\n",
    "    return list_pos[0] == 1 and list_pos[1] == 1"
   ]
  },
  {
   "cell_type": "markdown",
   "metadata": {},
   "source": [
    "Input parametri"
   ]
  },
  {
   "cell_type": "code",
   "execution_count": 4,
   "metadata": {},
   "outputs": [
    {
     "name": "stdout",
     "output_type": "stream",
     "text": [
      "Soglia L1 (min):20\n",
      "Soglia L2 (max):40\n",
      "Qualità minima Q1:35\n",
      "Qualità minima Q2:40\n",
      "Soglia percentuale P:50\n"
     ]
    }
   ],
   "source": [
    "L1 = L2 = Q1 = P = -1\n",
    "\n",
    "while L1 <= 0:\n",
    "    try:\n",
    "        L1 = int(input(\"Soglia L1 (min):\"))\n",
    "        if L1 <= 0:\n",
    "            print(\"Deve essere un numero intero > 0\")\n",
    "    except ValueError:\n",
    "        print(\"Deve essere un numero intero\")\n",
    "\n",
    "\n",
    "while L2 <= 0 or L1 >= L2:\n",
    "    try:\n",
    "        L2 = int(input(\"Soglia L2 (max):\"))\n",
    "        if L2 <= 0 or L1 >= L2:\n",
    "            print(\"Deve essere > 0 e strettamente maggiore di L1\")\n",
    "    except ValueError:\n",
    "        print(\"Deve essere un numero intero\")\n",
    "    \n",
    "intero = False\n",
    "\n",
    "while not intero:\n",
    "    try:\n",
    "        Q1 = int(input(\"Qualità minima Q1:\"))\n",
    "        intero = True\n",
    "    except ValueError:\n",
    "        print(\"Deve essere un numero intero\")\n",
    "        intero = False\n",
    "\n",
    "Q2 = Q1\n",
    "    \n",
    "while Q1 >= Q2:\n",
    "    try:\n",
    "        Q2 = int(input(\"Qualità minima Q2:\"))\n",
    "        if Q1 >= Q2:\n",
    "            print(\"Deve essere un numero intero strettamente maggiore di Q1\")\n",
    "    except ValueError:\n",
    "        print(\"Deve essere un numero intero\")\n",
    "\n",
    "        \n",
    "        \n",
    "while P <= 0 or P > 100:\n",
    "    try:\n",
    "        P = int(input(\"Soglia percentuale P:\"))\n",
    "        if P <= 0 or P > 100:\n",
    "            print(\"Deve essere un numero intero tra 1 e 100\")\n",
    "    except ValueError:\n",
    "        print(\"Deve essere un numero intero\")\n"
   ]
  },
  {
   "cell_type": "code",
   "execution_count": 5,
   "metadata": {},
   "outputs": [],
   "source": [
    "# Lettura file fastq e creazione lista con il contenuto del file letto\n",
    "\n",
    "file_name = 'input.fq'\n",
    "fastq_records = SeqIO.parse(file_name, 'fastq')\n",
    "fastq_record_list = list(fastq_records)"
   ]
  },
  {
   "cell_type": "code",
   "execution_count": 6,
   "metadata": {},
   "outputs": [],
   "source": [
    "# Stringa per le read che rispettano i vincoli\n",
    "seq_to_file = ''\n",
    "\n",
    "# Controllo dell'intera lista di record\n",
    "for read in fastq_record_list:\n",
    "    length_read = len(read.seq)\n",
    "    \n",
    "    if length_read >= L1 and length_read <= L2:\n",
    "        check_quality = [qlt >= Q1 for qlt in read.letter_annotations['phred_quality']]\n",
    "        if not False in check_quality:\n",
    "            length_subread_att = int(P * len(read.seq) / 100)\n",
    "            interval = get_subinterval(read.letter_annotations['phred_quality'], Q2)\n",
    "            length_sub_seq = interval[1] - interval[0]\n",
    "            if length_sub_seq >= length_subread_att and not fake_interval(interval):\n",
    "                ann_seq = SeqRecord(read.seq)\n",
    "                ann_seq.id = read.id \n",
    "                min_qlt = str(min(read.letter_annotations['phred_quality']))\n",
    "                start = interval[0]\n",
    "                end = interval[1]\n",
    "                subseq_qlt = read.letter_annotations['phred_quality'][start:end]\n",
    "                media = str(mean(subseq_qlt)) \n",
    "                ann_seq.description = 'len:' + str(len(read.seq)) + ' min_quality:' + min_qlt + ' start:' + str(start) + ' end:' + str(end) + ' mean_sub_seq:' + media\n",
    "                seq_to_file = seq_to_file + ann_seq.format(\"fasta\")"
   ]
  },
  {
   "cell_type": "code",
   "execution_count": 7,
   "metadata": {},
   "outputs": [
    {
     "name": "stdout",
     "output_type": "stream",
     "text": [
      "Creato file output.fa\n"
     ]
    }
   ],
   "source": [
    "# Scrittura su file fasta se almeno un read ripsetta i vincoli \n",
    "\n",
    "if seq_to_file != '':\n",
    "    file_fasta = open('output.fa', 'wt')\n",
    "    file_fasta.write(seq_to_file.format(\"fasta\"))\n",
    "    file_fasta.close()\n",
    "    print(\"Creato file output.fa\")\n",
    "else:\n",
    "    print(\"Nessun reads rispetta i vincoli\")"
   ]
  },
  {
   "cell_type": "code",
   "execution_count": null,
   "metadata": {},
   "outputs": [],
   "source": []
  }
 ],
 "metadata": {
  "kernelspec": {
   "display_name": "Python 3",
   "language": "python",
   "name": "python3"
  },
  "language_info": {
   "codemirror_mode": {
    "name": "ipython",
    "version": 3
   },
   "file_extension": ".py",
   "mimetype": "text/x-python",
   "name": "python",
   "nbconvert_exporter": "python",
   "pygments_lexer": "ipython3",
   "version": "3.8.3"
  }
 },
 "nbformat": 4,
 "nbformat_minor": 4
}
